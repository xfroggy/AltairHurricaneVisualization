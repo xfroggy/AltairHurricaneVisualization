{
 "metadata": {
  "language_info": {
   "codemirror_mode": {
    "name": "ipython",
    "version": 3
   },
   "file_extension": ".py",
   "mimetype": "text/x-python",
   "name": "python",
   "nbconvert_exporter": "python",
   "pygments_lexer": "ipython3",
   "version": "3.7.9-final"
  },
  "orig_nbformat": 2,
  "kernelspec": {
   "name": "python3",
   "display_name": "Python 3"
  }
 },
 "nbformat": 4,
 "nbformat_minor": 2,
 "cells": [
  {
   "cell_type": "code",
   "execution_count": 61,
   "metadata": {},
   "outputs": [
    {
     "output_type": "stream",
     "name": "stdout",
     "text": [
      "3.2414634146341923\nTouch\n"
     ]
    },
    {
     "output_type": "display_data",
     "data": {
      "text/plain": "<Figure size 432x288 with 1 Axes>",
      "image/png": "[encoded data removed]"
     },
     "metadata": {
      "needs_background": "light"
     }
    }
   ],
   "source": [
    "import matplotlib.pyplot as plt\n",
    "import math\n",
    "\n",
    "%matplotlib inline\n",
    " \n",
    "def checkCollision(P,Q, x, y, radius): \n",
    "   \n",
    " \n",
    "    x_values = [P[0], Q[0]]\n",
    "    y_values = [P[1], Q[1]]\n",
    "\n",
    "    x1 = P[0]\n",
    "    y1 = P[1]\n",
    "    x2 = Q[0]\n",
    "    y2=  Q[1]\n",
    "\n",
    "    # formula for the perpendicular distance of the location (point) to the line\n",
    "    dist = (((y1-y2)*x)+((x2-x1)*y) + (x1*y2) - (x2*y1)) / math.sqrt(((x2-x1)*(x2-x1)) + ((y2-y1)*(y2-y1)))\n",
    "\n",
    "    # visual graph of line and location\n",
    "    figure = plt.figure()\n",
    "    axes = figure.add_subplot(1,1,1)\n",
    "    draw_circle = plt.Circle((x, y), radius, fill=False)\n",
    "    plt.plot(x_values, y_values)\n",
    "    axes.add_patch(draw_circle)\n",
    "    \n",
    "    plt.axis('scaled')\n",
    "   \n",
    "\n",
    "    # Checking if the distance is less  \n",
    "    # than, greater than or equal to radius. \n",
    "    print(dist)\n",
    "    if (radius == dist): \n",
    "        print(\"Touch\") \n",
    "    elif (radius > dist): \n",
    "        print(\"Intersect\") \n",
    "    else: \n",
    "        print(\"Outside\") \n",
    "\n",
    "radius = 3.2414634146341923\n",
    "x = 20.7\n",
    "y = -88.2\n",
    "\n",
    "\n",
    "P = [17.4, -88.3]\n",
    "Q = [18.3, -92.3]\n",
    "\n",
    "checkCollision(P,Q, x , y, radius) "
   ]
  },
  {
   "cell_type": "code",
   "execution_count": null,
   "metadata": {},
   "outputs": [],
   "source": []
  }
 ]
}